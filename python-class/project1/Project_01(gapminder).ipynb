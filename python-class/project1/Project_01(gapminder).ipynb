{
 "cells": [
  {
   "cell_type": "markdown",
   "metadata": {},
   "source": [
    "## Project 1\n",
    "\n",
    "### Jumpei Fujimoto\n",
    "\n",
    "** DSCI 11000 - Introduction to Data Science**\n",
    "\n",
    "** Due Friday, Oct. 12**"
   ]
  },
  {
   "cell_type": "markdown",
   "metadata": {},
   "source": [
    "In this project, you will be asked to work with a dataset containing socioeconomic data for 142 of countries. The dataset you will be working with is called the Gapminder dataset, and contains information about each country, collected once every five years during the period from 1952 to 2007. \n",
    "\n",
    "The data you will be working with is contained in the file [gapminder.csv](https://lindenwood.instructure.com/courses/37728/files/folder/Project?preview=12987649). Please download this file into the same folder that contains this notebook. \n",
    "\n",
    "The cell below loads the dataset into Python and then uses it to create several lists. Please run that cell as-is. We will explain the purpose of each of these lists in a moment. \n"
   ]
  },
  {
   "cell_type": "code",
   "execution_count": 1,
   "metadata": {
    "collapsed": true
   },
   "outputs": [],
   "source": [
    "import random\n",
    "import pandas as pd\n",
    "df = pd.read_csv('gapminder.csv')\n",
    "country = list(df['country'])\n",
    "continent = list(df['continent'])\n",
    "year = list(df['year'])\n",
    "pop = list(df['pop'].astype(int))\n",
    "pop = list(map(int, pop))\n",
    "lifexp = list(df['lifeExp'])\n",
    "pcgdp = list(df['gdpPercap'])"
   ]
  },
  {
   "cell_type": "markdown",
   "metadata": {},
   "source": [
    "The cell above created several lists. The purpose of each of those lists is described below. \n",
    "\n",
    "* **country** - This list contains the names of the 142 countries. Each country is listed 12 times - once for each year for which data was collected. \n",
    "* **continent** - Each element of this list records the continental region in which the associated country belongs. \n",
    "* **year** - This list contains the year during which that particular record was collected. \n",
    "* **pop** - Each element in this list is the population of a given country in a given year. \n",
    "* **lifexp** - Each element in this list is the average life expectency in a given country in a given year. \n",
    "* **pcgdp** - Each element in this list is the per capita GDP of a given country in a given year. GDP is a measure of the economic output of a country. The per capita GDP is the total GDP of the country divided by the population. \n",
    "\n",
    "The elements of the lists are associated with one another as follows: `country[i]` is in `continent[i]`. During `year[i]`, `country[i]` had a population of `pop[i]`, a per capita GDP of `pcgdp[i]`, and an average life expectency of `lifexp[i]`. \n",
    "\n",
    "The cell below prints the values of each list for a randomly generated index. Run this a few times to get a sense as to what the data looks like. \n"
   ]
  },
  {
   "cell_type": "code",
   "execution_count": 2,
   "metadata": {},
   "outputs": [
    {
     "name": "stdout",
     "output_type": "stream",
     "text": [
      "Index: 563\n",
      "Country: Gambia\n",
      "Year: 2007\n",
      "Population: 1688359\n",
      "Continent: Africa\n",
      "Life Expectancy: 59.448\n",
      "GDP Per Capita: 752.7497265\n"
     ]
    }
   ],
   "source": [
    "n = random.choice(range(len(pop)))\n",
    "\n",
    "print('Index: ' + str(n))\n",
    "print('Country: ' + str(country[n]))\n",
    "print('Year: ' + str(year[n]))\n",
    "print('Population: ' + str(pop[n]))\n",
    "print('Continent: ' + str(continent[n]))\n",
    "print('Life Expectancy: ' + str(lifexp[n]))\n",
    "print('GDP Per Capita: ' + str(pcgdp[n]))"
   ]
  },
  {
   "cell_type": "markdown",
   "metadata": {},
   "source": [
    "# Part A: Select the 2007 Data\n",
    "\n",
    "In this project, we will only be interested in the data that was collected in 2007, the most recent year for which we have data in this dataset. The dataset contains data for 142 countries in 2007. We will create six new lists, each of length 142. These lists will contain only the 2007 data for the 142 countries. \n",
    "\n",
    "In the cell below: \n",
    "\n",
    "1. Create six new lists named: **`country_07`**, **`year_07`**, **`pop_07`**, **`continent_07`**, **`lifexp_07`**, and  **`pcgdp_07`**.\n",
    "2. These six lists should initially be empty, but should will ulimately contain the records from 2007. \n",
    "3. You can acoomplish this task by looping over the six original lists. At each iteration of the loop, you should check to see if the associated record is from 2007. It is is, store each piece of the record in one of the six new lists. \n",
    "\n",
    "When you are done, print the sum of `pop_07`. If you have done this correctly, you should get 6251013179.\n",
    "\n"
   ]
  },
  {
   "cell_type": "code",
   "execution_count": 3,
   "metadata": {},
   "outputs": [
    {
     "name": "stdout",
     "output_type": "stream",
     "text": [
      "6251013179\n"
     ]
    }
   ],
   "source": [
    "country_07 = []\n",
    "year_07 = []\n",
    "pop_07 = []\n",
    "continent_07 = []\n",
    "lifexp_07 = []\n",
    "pcgdp_07 = []\n",
    "\n",
    "for index in range (0,len(year)):\n",
    "    if year[index] == 2007:\n",
    "        year_07.append(year[index])\n",
    "        country_07.append(country[index])\n",
    "        pop_07.append(pop[index])\n",
    "        continent_07.append(continent[index])\n",
    "        lifexp_07.append(lifexp[index])\n",
    "        pcgdp_07.append(pcgdp[index])\n",
    "        \n",
    "print (sum(pop_07))"
   ]
  },
  {
   "cell_type": "markdown",
   "metadata": {},
   "source": [
    "## Part B: Extreme Populations\n",
    "\n",
    "In the cell below, write code to print a list of countries that had a population greater than 100 million in 2007, as well as a list of countries that had a population less than 1 million in 2007. Sample output will be provided to you to explain how the output should be formatted. **Please try to match the format of the sample output exactly.**"
   ]
  },
  {
   "cell_type": "code",
   "execution_count": 4,
   "metadata": {},
   "outputs": [
    {
     "name": "stdout",
     "output_type": "stream",
     "text": [
      "Countries with population more than 100 million\n",
      "--------------------------------------------------\n",
      "The population of Bangladesh in 2007 was 150448339.\n",
      "The population of Brazil in 2007 was 190010647.\n",
      "The population of China in 2007 was 1318683096.\n",
      "The population of India in 2007 was 1110396331.\n",
      "The population of Indonesia in 2007 was 223547000.\n",
      "The population of Japan in 2007 was 127467972.\n",
      "The population of Mexico in 2007 was 108700891.\n",
      "The population of Nigeria in 2007 was 135031164.\n",
      "The population of Pakistan in 2007 was 169270617.\n",
      "The population of United States in 2007 was 301139947.\n",
      "\n",
      "Countries with populations less than 1 million:\n",
      "__________________________________________________\n",
      "The population of Bahrain in 2007 was 708573.\n",
      "The population of Comoros in 2007 was 710960.\n",
      "The population of Djibouti in 2007 was 496374.\n",
      "The population of Equatorial Guinea in 2007 was 551201.\n",
      "The population of Iceland in 2007 was 301931.\n",
      "The population of Montenegro in 2007 was 684736.\n",
      "The population of Reunion in 2007 was 798094.\n",
      "The population of Sao Tome and Principe in 2007 was 199579.\n"
     ]
    }
   ],
   "source": [
    "print (\"Countries with population more than 100 million\")\n",
    "print(\"-\"*50)\n",
    "for index in range(0,len(pop_07)):\n",
    "    if pop_07[index]>100000000:\n",
    "        print (\"The population of \" + str(country_07[index]) + \" in 2007 was \" + str(pop_07[index]) + \".\")\n",
    "print(\"\\nCountries with populations less than 1 million:\")\n",
    "print(\"_\"*50)\n",
    "for index in range(0,len(pop_07)):\n",
    "    if pop_07[index]<1000000:\n",
    "        print (\"The population of \" + str(country_07[index]) + \" in 2007 was \" + str(pop_07[index]) + \".\")"
   ]
  },
  {
   "cell_type": "markdown",
   "metadata": {},
   "source": [
    "## Part C: Extreme Life Expectencies\n",
    "\n",
    "In the cell below, write code to print a list of countries that had an average life expectency greater than 80 years in 2007, as well as a list of countries that had an average life expectency less than 45 years in 2007. Sample output will be provided to you to explain how the output should be formatted. **Please try to match the format of the sample output exactly.**"
   ]
  },
  {
   "cell_type": "code",
   "execution_count": 5,
   "metadata": {},
   "outputs": [
    {
     "name": "stdout",
     "output_type": "stream",
     "text": [
      "Countries with Life Expectancy greater than 80 years:\n",
      "_____________________________________________________\n",
      "The life expectancy in Australia in 2007 was 81.235.\n",
      "The life expectancy in Canada in 2007 was 80.653.\n",
      "The life expectancy in France in 2007 was 80.657.\n",
      "The life expectancy in Hong Kong, China in 2007 was 82.208.\n",
      "The life expectancy in Iceland in 2007 was 81.757.\n",
      "The life expectancy in Israel in 2007 was 80.745.\n",
      "The life expectancy in Italy in 2007 was 80.546.\n",
      "The life expectancy in Japan in 2007 was 82.603.\n",
      "The life expectancy in New Zealand in 2007 was 80.204.\n",
      "The life expectancy in Norway in 2007 was 80.196.\n",
      "The life expectancy in Spain in 2007 was 80.941.\n",
      "The life expectancy in Sweden in 2007 was 80.884.\n",
      "The life expectancy in Switzerland in 2007 was 81.701.\n",
      "\n",
      "Countries with LIfe Expectency less than 45 years:\n",
      "_____________________________________________________\n",
      "The life expectancy in Afghanistan in 2007 was 43.828.\n",
      "The life expectancy in Angola in 2007 was 42.731.\n",
      "The life expectancy in Central African Republic in 2007 was 44.741.\n",
      "The life expectancy in Lesotho in 2007 was 42.592.\n",
      "The life expectancy in Mozambique in 2007 was 42.082.\n",
      "The life expectancy in Sierra Leone in 2007 was 42.568.\n",
      "The life expectancy in Swaziland in 2007 was 39.613.\n",
      "The life expectancy in Zambia in 2007 was 42.384.\n",
      "The life expectancy in Zimbabwe in 2007 was 43.487.\n"
     ]
    }
   ],
   "source": [
    "print (\"Countries with Life Expectancy greater than 80 years:\" + \"\\n\" + (\"_\"*53))\n",
    "for index in range (0,len(lifexp_07)):\n",
    "    if lifexp_07[index]>80:\n",
    "        print(\"The life expectancy in \" + str(country_07[index]) + \" in 2007 was \" + str(round(lifexp_07[index],3)) + \".\")\n",
    "print(\"\\nCountries with LIfe Expectency less than 45 years:\" + \"\\n\" + (\"_\"*53))\n",
    "for index in range (0,len(lifexp_07)):\n",
    "    if lifexp_07[index]<45:\n",
    "        print (\"The life expectancy in \" + str(country_07[index]) + \" in 2007 was \" + str(round(lifexp_07[index],3)) + \".\")"
   ]
  },
  {
   "cell_type": "markdown",
   "metadata": {},
   "source": [
    "## Part D: Calculate Total GDP\n",
    "\n",
    "The total GDP for a country is equal to its per capita GDP multiplied by its population. In the cell below, write code to create a list called `gdp_07`. Each element of the cell should contain the total GDP of a single country in 2007. The order of the elements in this new list should match that of the other lists for the 2007 data. \n",
    "\n",
    "Print the sum of the list `gdp_07`. If you have completed this task correctly, you should get 5.81093347139e+13."
   ]
  },
  {
   "cell_type": "code",
   "execution_count": 6,
   "metadata": {},
   "outputs": [
    {
     "name": "stdout",
     "output_type": "stream",
     "text": [
      "58109334713904.55\n"
     ]
    }
   ],
   "source": [
    "gdp_07 = []\n",
    "\n",
    "for i in range (0,len(country_07)):\n",
    "    gdp_07.append(pcgdp_07[i] * pop_07[i])\n",
    "    \n",
    "print (sum(gdp_07))"
   ]
  },
  {
   "cell_type": "markdown",
   "metadata": {},
   "source": [
    "**Extreme GDP's**\n",
    "\n",
    "In the cell below, write code to print a list of countries that had a GDP greater than 2 trillion in 2007, as well as a list of countries that had a GDP less than 2 billion in 2007. Sample output will be provided to you to explain how the output should be formatted. **Please try to match the format of the sample output exactly.**"
   ]
  },
  {
   "cell_type": "code",
   "execution_count": 7,
   "metadata": {},
   "outputs": [
    {
     "name": "stdout",
     "output_type": "stream",
     "text": [
      "Countries with GDP greater than 2 trillion:\n",
      "____________________________________________\n",
      "The GDP of China in 2007 was 6539500929092.308.\n",
      "The GDP of Germany in 2007 was 2650870893900.9224.\n",
      "The GDP of India in 2007 was 2722925438772.817.\n",
      "The GDP of Japan in 2007 was 4035134797102.1743.\n",
      "The GDP of United Kingdom in 2007 was 2017969309929.4646.\n",
      "The GDP of United States in 2007 was 12934458535084.986.\n",
      "\n",
      "Countries with GDP less than 2 bbillion:\n",
      "________________________________________\n",
      "The GDP of Comoros in 2007 was 701111696.196032.\n",
      "The GDP of Djibouti in 2007 was 1033689705.3380581.\n",
      "The GDP of Gambia in 2007 was 1270911775.4838135.\n",
      "The GDP of Guinea-Bissau in 2007 was 852652874.1974629.\n",
      "The GDP of Liberia in 2007 was 1323912407.325193.\n",
      "The GDP of Sao Tome and Principe in 2007 was 319014076.627531.\n"
     ]
    }
   ],
   "source": [
    "print (\"Countries with GDP greater than 2 trillion:\\n\" + (\"_\"*44))\n",
    "for index in range (0,len(gdp_07)):\n",
    "    if gdp_07[index] > 2000000000000:\n",
    "        print (\"The GDP of \" + str(country_07[index]) + \" in 2007 was \" + str(gdp_07[index]) + \".\")\n",
    "\n",
    "print(\"\\nCountries with GDP less than 2 bbillion:\" + \"\\n\" + (\"_\"*40))\n",
    "for index in range (0,len(gdp_07)):\n",
    "    if gdp_07[index] < 2000000000:\n",
    "        print (\"The GDP of \" + str(country_07[index]) + \" in 2007 was \" + str(gdp_07[index]) + \".\")"
   ]
  },
  {
   "cell_type": "markdown",
   "metadata": {},
   "source": [
    "## Part E: Group Information by Continent \n",
    "\n",
    "The countries in this dataset are grouped into 5 continental regions: Africa, Americas, Asia, Europe, and Oceania. In this part of the project, we are going to calculate the total population, per capita GDP, and average life expectency for each of these regions in 2007. \n",
    "\n",
    "For convenience, will create a list containing the five regions in the cell below. "
   ]
  },
  {
   "cell_type": "code",
   "execution_count": 8,
   "metadata": {
    "collapsed": true
   },
   "outputs": [],
   "source": [
    "cont_list = ['Africa', 'Americas', 'Asia', 'Europe', 'Oceania']"
   ]
  },
  {
   "cell_type": "markdown",
   "metadata": {},
   "source": [
    "Perform the following tasks in the cell below:\n",
    "\n",
    "1. Create three empty lists: **`cont_pcgdp_07`**, **`cont_pop_07`**, **`cont_lifexp_07`**. \n",
    "\n",
    "2. Loop over the elements of `cont_list`, considering a single continent during each iteration. Each time this loop excecutes, do the following:\n",
    "\n",
    "    1. Create temp variables called **`temp_lifexp`**, **`temp_pop`**, and **`temp_gdp`**. Initialize all three variables to 0. \n",
    "    2. Loop over all 142 countries in the 2007 data. Each time this loop executes, check to see if the given country is in the current continent that we are considering from the outer loop. If it is, then update the three temp variables. When you are done **`temp_pop`** should contain the total population for countries in the given continent and **`temp_gdp`** should contain the total GDP for countries in the given continent. The **`temp_lifexp`** variable is a bit trickier. This should contain the sum of average life expectency times population for each country in the given continent. \n",
    "    \n",
    "    3. After looping over all 142 countires, divide both **`temp_lifexp`** and **`temp_gdp`** by **`temp_pop`**, storing the results back into the variables **`temp_lifexp`** and **`temp_gdp`**. \n",
    "    \n",
    "    4. Append the values of the three temp variables into the lists created in Step 1 above. \n",
    "     \n",
    "3. Write a loop to print a summary of the results for each of the 5 continental regions. Use the `round()` function to round per capita GDP to the nearest whole number. Round average life expectency to two decimal places. Sample output will be provided to you to explain how the output should be formatted. **Please try to match the format of the sample output exactly**.\n"
   ]
  },
  {
   "cell_type": "code",
   "execution_count": 9,
   "metadata": {},
   "outputs": [
    {
     "name": "stdout",
     "output_type": "stream",
     "text": [
      "-- Africa --\n",
      "Total Population: 929539692\n",
      "Per Capita GDP: 2561.0\n",
      "Average Life Expectancy: 54.56\n",
      "\n",
      "-- Americas --\n",
      "Total Population: 898871184\n",
      "Per Capita GDP: 21603.0\n",
      "Average Life Expectancy: 75.36\n",
      "\n",
      "-- Asia --\n",
      "Total Population: 3811953827\n",
      "Per Capita GDP: 5432.0\n",
      "Average Life Expectancy: 69.44\n",
      "\n",
      "-- Europe --\n",
      "Total Population: 586098529\n",
      "Per Capita GDP: 25244.0\n",
      "Average Life Expectancy: 77.89\n",
      "\n",
      "-- Oceania --\n",
      "Total Population: 24549947\n",
      "Per Capita GDP: 32885.0\n",
      "Average Life Expectancy: 81.06\n",
      "\n"
     ]
    }
   ],
   "source": [
    "cont_pcgdp_07 = []\n",
    "cont_pop_07 = []\n",
    "cont_lifexp_07 = []\n",
    "\n",
    "for m in cont_list:\n",
    "    temp_lifexp = 0\n",
    "    temp_pop = 0\n",
    "    temp_gdp = 0\n",
    "    for i in range (len(country_07)):\n",
    "        if (continent_07[i] == m):\n",
    "            temp_lifexp+=(lifexp_07[i]*pop_07[i])\n",
    "            temp_pop+=pop_07[i]\n",
    "            temp_gdp+=gdp_07[i]\n",
    "            \n",
    "    temp_lifexp=temp_lifexp / temp_pop\n",
    "    temp_gdp=temp_gdp/temp_pop\n",
    "    cont_pop_07.append(temp_pop)\n",
    "    cont_pcgdp_07.append(temp_gdp)\n",
    "    cont_lifexp_07.append(temp_lifexp)\n",
    "    \n",
    "for i in range(0,len(cont_list)):\n",
    "    print(\"-- \" +cont_list[i]+\" --\")\n",
    "    print (\"Total Population: \" + str(cont_pop_07[i]))\n",
    "    print (\"Per Capita GDP: \" + str(round(cont_pcgdp_07[i],0)))\n",
    "    print (\"Average Life Expectancy: \" + str(round(cont_lifexp_07[i],2)) + \"\\n\")"
   ]
  },
  {
   "cell_type": "markdown",
   "metadata": {
    "collapsed": true
   },
   "source": [
    "**Graphing the Continent Data**\n",
    "\n",
    "Run the cell below as-is to see a graph representation of the continent data. \n"
   ]
  },
  {
   "cell_type": "code",
   "execution_count": 10,
   "metadata": {},
   "outputs": [
    {
     "data": {
      "image/png": "[encoded data removed]",
      "text/plain": [
       "<matplotlib.figure.Figure at 0x1158082e8>"
      ]
     },
     "metadata": {},
     "output_type": "display_data"
    }
   ],
   "source": [
    "import matplotlib.pyplot as plt\n",
    "\n",
    "plt.rcParams[\"figure.figsize\"] = [18,4]\n",
    "plt.subplot(1,3,1)\n",
    "\n",
    "plt.bar(range(5), cont_pop_07, color='cornflowerblue')\n",
    "plt.xticks(range(5), cont_list)\n",
    "plt.ylabel('Population')\n",
    "plt.title('Population by Continent (2007)')\n",
    "\n",
    "plt.subplot(1,3,2)\n",
    "plt.bar(range(5), cont_pcgdp_07, color='orchid')\n",
    "plt.xticks(range(5), cont_list)\n",
    "plt.ylabel('Per Capita GDP')\n",
    "plt.title('Per Capita GDP by Continent (2007)')\n",
    "\n",
    "plt.subplot(1,3,3)\n",
    "plt.bar(range(5), cont_lifexp_07, color='salmon')\n",
    "plt.xticks(range(5), cont_list)\n",
    "plt.ylabel('Life Expectency')\n",
    "plt.title('Life Expectency by Continent (2007)')\n",
    "\n",
    "plt.show()\n"
   ]
  },
  {
   "cell_type": "code",
   "execution_count": null,
   "metadata": {
    "collapsed": true
   },
   "outputs": [],
   "source": []
  }
 ],
 "metadata": {
  "kernelspec": {
   "display_name": "Python 3",
   "language": "python",
   "name": "python3"
  },
  "language_info": {
   "codemirror_mode": {
    "name": "ipython",
    "version": 3
   },
   "file_extension": ".py",
   "mimetype": "text/x-python",
   "name": "python",
   "nbconvert_exporter": "python",
   "pygments_lexer": "ipython3",
   "version": "3.6.3"
  }
 },
 "nbformat": 4,
 "nbformat_minor": 2
}
